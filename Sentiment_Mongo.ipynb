{
 "cells": [
  {
   "cell_type": "code",
   "execution_count": 1,
   "metadata": {
    "collapsed": true
   },
   "outputs": [],
   "source": [
    "import tweepy\n",
    "import json\n",
    "from pymongo import MongoClient\n",
    "import datetime\n",
    "from textblob import TextBlob"
   ]
  },
  {
   "cell_type": "markdown",
   "metadata": {},
   "source": [
    "Enter required keys from https://apps.twitter.com/ in quotes"
   ]
  },
  {
   "cell_type": "code",
   "execution_count": 2,
   "metadata": {
    "collapsed": true
   },
   "outputs": [],
   "source": [
    "consumer_key=' '\n",
    "consumer_secret =' '\n",
    "access_token = ' '\n",
    "access_token_secret = ' '"
   ]
  },
  {
   "cell_type": "markdown",
   "metadata": {},
   "source": [
    "Enter the Connection name and collection name. If it doesn't exist, MongoDB will create it. Here connection is 'TwitterData' and collection is 'cricket'."
   ]
  },
  {
   "cell_type": "code",
   "execution_count": 8,
   "metadata": {
    "collapsed": true
   },
   "outputs": [],
   "source": [
    "connection=MongoClient('localhost',27017)\n",
    "db=connection.TwitterData\n",
    "db.cricket.create_index(\"id\",unique=True,dropDups=True)\n",
    "collection=db.cricket"
   ]
  },
  {
   "cell_type": "code",
   "execution_count": 9,
   "metadata": {},
   "outputs": [
    {
     "name": "stdout",
     "output_type": "stream",
     "text": [
      "Enter keywords separated by comma. Do not use space after comma\n",
      "cricket,Cricket\n"
     ]
    }
   ],
   "source": [
    "print ('Enter keywords separated by comma. Do not use space after comma')\n",
    "keywords=map(str,raw_input().split(','))\n",
    "language=['en']"
   ]
  },
  {
   "cell_type": "code",
   "execution_count": 10,
   "metadata": {},
   "outputs": [
    {
     "name": "stdout",
     "output_type": "stream",
     "text": [
      "Do you want to collect retweets? [Y/N]\n",
      "N\n"
     ]
    }
   ],
   "source": [
    "print('Do you want to collect retweets? [Y/N]')\n",
    "ans=raw_input()"
   ]
  },
  {
   "cell_type": "markdown",
   "metadata": {},
   "source": [
    "You can define the labels according to their sentiment polarity in this function."
   ]
  },
  {
   "cell_type": "code",
   "execution_count": 11,
   "metadata": {
    "collapsed": true
   },
   "outputs": [],
   "source": [
    "def sentiment(text2):\n",
    "    global score,result\n",
    "    blob=TextBlob(text2)\n",
    "    score=blob.sentiment.polarity\n",
    "    if 0.1 >= score > -0.1:\n",
    "        result='neutral'\n",
    "    elif 0.7 >= score > 0.1:\n",
    "        result='positive'\n",
    "    elif score > 0.7:\n",
    "        result='highly positive'\n",
    "    elif -0.1 >= score > -0.7:\n",
    "        result='negative'\n",
    "    elif score <= -0.7 :\n",
    "        result = 'highly negative'\n",
    "    return score,result"
   ]
  },
  {
   "cell_type": "code",
   "execution_count": null,
   "metadata": {
    "scrolled": true
   },
   "outputs": [
    {
     "name": "stdout",
     "output_type": "stream",
     "text": [
      "Printing Tweets :\n",
      "mishnion: @kimrhodes4real You watching cricket for first time has got to be the best thing ever\n",
      "JoanneFaulkne17: Just dont look over there at Manus and Nauru... and definitely dont look at our treatment of Aboriginal kids in detention on the mainland. https://t.co/DNIs3oYshI\n",
      "johnnol1: Ball tampering: The staggering financial cost for a day of Cape Town madness | The New Daily https://t.co/76XoeKG9Ju\n",
      "sunbeam007: @yelobeli @bbctms @Aggerscricket https://t.co/tOxwtcHYtI Got to have an option of someone who can bowl 145-150 and stay in the 140s. A southpaw is a bonus. Imagine the buzz if Garton and Mahmood both got a start.\n",
      "mmbrenn: @MikeCarlton01 @allieannie1 No  He was, simply, weak  As captain of the Australian Cricket team to turn a blind eye to blatant cheating, showed a serious lapse in judgement and leadership.  But nevertheless, forgivable.\n",
      "afeef1915: Ball-Tampering Scandal: Video Surfaces Of Pat Cummins Stepping On The Ball With Spikes. Not Tampering, Was It? https://t.co/DWGjFhDFoJ\n",
      "realbenlogan: Dont do it @davidwarner31 @GerardWhateley @SENNews https://t.co/kStR356Re4\n",
      "CricketReport1: How to solve cricket's ball-tampering problem? - CNN International https://t.co/5GfnvVcLfy\n",
      "northstand1901: @tonymerchison @Mozarmyquiz I think it will have its uses: punting on the Thames in Oxford &amp; watching the cricket at Lords (in a reverse whites statement). The possibilities are endless. Its a thumbs up from me!\n",
      "auntyfudge: John Buchanan: How Australia can and should move on from the Cape Town saga | The New Daily https://t.co/1tSi8nPotw\n",
      "RamanujamSri: Yes Michael https://t.co/TADUHevQP6\n",
      "RamanujamSri: But he plays for the foreign legion https://t.co/4NTYMfsqOc\n",
      "MightyJoj: They were in the same pakistan test cricket team, a father and his son, I think it was in the seventies, does anyone here watch cricket?\n",
      "Ingrid_Rose_SA: WHAT I PLANNED TO DO TODAY: Wake up early. Watch cricket. Drink a beer. Go to shops. Run errands. Clean flat. Organise flat. Go to bed early. WHAT I DID TODAY: Woke up early. Watched all the cricket. Drank all the beer. *the end* #SAvAUS #ProteaFire #CheatingAussies #TestCricket\n",
      "robertkilcoyne2: @Aggerscricket Oh to be a fly on the wall at the SCG tomorrow. Is Warner going to be contrite and accept his punishment or will he try to take other players down with him? https://t.co/MgYQ9wRcBU\n",
      "Styla73: The best part of cricket tbh. I love it when the pointy sticky out of the groundy thingies get smashed. https://t.co/kNLLVcndE7\n",
      "sammonford: The holier than thou attitude of the media is so hypocritical!!!\n",
      "They call it public outcry when its just media baying for blood. Anything goes for a story! https://t.co/A2HbUQqE33\n",
      "cricketycom: Cricket Collectible: Readers Cricket Bat Toe Protectors, Natural https://t.co/PdMa5XEBKm https://t.co/SzVwotUhZ8\n",
      "CycloneCharlie8: #hypocrisy @TurnbullMalcolm\n",
      "'Utter hypocricy, Prime Minister'.\n",
      "Not too mention the utter hypocrisy of daring to comment on the #cricket cheating scandal, when he is the biggest corrupt cheat south of the Equator.\n",
      " #auspol https://t.co/b86EYjeius\n",
      "jduffin24: @Dury1888 @DavidSnaggles1 @jimmy_bothwell @lfmunro @Hunbelievables @law_1814 @JamD1888 @lombardi_bert A seen him oan sky sports, some guy scratching his heid tae show us how the Australians tampered wae a cricket Baw \n",
      "Tennantbabe1: @kimrhodes4real Now that would make Cricket far more interesting!!! \n",
      "rojertb: The newly uncovered 18 mile stone on the Chesterfield Canal near Shireoaks Cricket Ground https://t.co/eHMsV4bGDu\n",
      "shinexox: What a lovely idea #TimPaine shaking hands before the match. It's why I love cricket...a gentleman's game. \n",
      "\n",
      "To new beginnings\n",
      "\n",
      "\n",
      "Darkfireunicorn: @kimrhodes4real Live tweeting cricket is making my day\n",
      "GreaterKashmir_: An impoverished cop and cricket loving militant https://t.co/ZOBtGaqQhb\n",
      "aljobic: Noticed that a Yorkshire accent is admirably suited to cricket commentaries. Just saying.\n",
      "JardineEyes: @CricketAus @samuelfez Hope this continues when the Ashes is played in England and Australia. I think most supporters of both teams just want good competitive cricket and then enjoy a beer afterwards. The need to turn every Ashes into an angry war has been very tedious.\n",
      "auntyfudge: Ball tampering: The staggering financial cost for a day of Cape Town madness | The New Daily https://t.co/Mpjs0QCtOb\n",
      "Cricket_TT1: Australia v South Africa pre-Test handshakes, Tim Paine captaincy #Cricket https://t.co/F47bbRw2Hx\n",
      "zaraa339: @CapitalTV_News @najamsethi @baylaag1 @ejazhaider @najamsethi plz u r bringing he value of psl down by holding it in pak. Ok u will get the crowd but next year no famous names will come. I dont know if u r an enemy or a wellwisher of pak cricket\n",
      "Derek_Douglas50: The peerless Gideon  Haigh eviscerates Cricket Australias suits:\n",
      " https://t.co/ZM8UE0uHIR\n",
      "Banksy125: Today I shall mostly be chilling out and watching cricket \n",
      "DamianMarrett: NO MORE ON CRICKET SCANDAL - but really interested to hear what Warner says. Think it might be quite different than the others.\n",
      "kim_babac: Analysis: Fresh faces start Australian cricket's renewal with classic Test match day https://t.co/gEWDszjL8m #news\n",
      "simon_tanner: @omaromalleykhan It's also worth looking at the rhetoric behind policy on overseas players in grassroots cricket. As an admin I am effectively de facto border agency. See Middlesex county cricket league notices 'tone'of each notes has changed radically since Nov 17\n"
     ]
    }
   ],
   "source": [
    "class MyStreamListener(tweepy.StreamListener):\n",
    "    def on_data(self, data):\n",
    "        tweet=json.loads(data)    \n",
    "        if ans=='N':    \n",
    "            if (not tweet['retweeted']) and ('RT @' not in tweet['text']):\n",
    "                if \"extended_tweet\" in tweet:\n",
    "                    text=tweet['extended_tweet']['full_text'].encode('ascii', 'ignore')\n",
    "                else:\n",
    "                    text=tweet['text'].encode('ascii', 'ignore')    \n",
    "                tweet_id=tweet['id_str']\n",
    "                username=tweet['user']['screen_name']\n",
    "                followers=tweet['user']['followers_count']\n",
    "                #blob=TextBlob(text)\n",
    "                sentiment_scores=sentiment(text)[0]\n",
    "                tweet_sentiment=sentiment(text)[1]\n",
    "                RT_count=tweet['retweet_count']\n",
    "                quote_count=tweet['quote_count']\n",
    "                fav_count=tweet['favorite_count']\n",
    "                reply_count=tweet['reply_count']\n",
    "                hashtags=tweet['entities']['hashtags']\n",
    "                dt=tweet['created_at']\n",
    "                created_at=datetime.datetime.strptime(dt,'%a %b %d %H:%M:%S +0000 %Y')\n",
    "                final_tweet={'id':tweet_id,'handle':username,'followers':followers,'text':text,\n",
    "                             'RTs':RT_count,'Quotes':quote_count,'Favourited':fav_count,'Replied':reply_count,\n",
    "                             'hashtags':hashtags,\n",
    "                             'Timestamp':created_at,'Sentiment_Score':sentiment_scores,'Tweet_Sentiment':tweet_sentiment}\n",
    "                collection.insert_one(final_tweet)\n",
    "                print (username + ':' + ' ' + text)\n",
    "                #print final_tweet\n",
    "                return True\n",
    "                #print tweet\n",
    "                #print ('%s: %s' % (tweet['user']['screen_name'], tweet['text'].encode('ascii', 'ignore')))\n",
    "        elif ans=='Y':\n",
    "            if \"extended_tweet\" in tweet:\n",
    "                    text=tweet['extended_tweet']['full_text'].encode('ascii', 'ignore')\n",
    "            else:\n",
    "                text=tweet['text'].encode('ascii', 'ignore')    \n",
    "               \n",
    "            tweet_id=tweet['id_str']\n",
    "            username=tweet['user']['screen_name']\n",
    "            followers=tweet['user']['followers_count']\n",
    "            #blob=TextBlob(text)\n",
    "            sentiment_scores=sentiment(text)[0]\n",
    "            tweet_sentiment=sentiment(text)[1]\n",
    "            RT_count=tweet['retweet_count']\n",
    "            quote_count=tweet['quote_count']\n",
    "            fav_count=tweet['favorite_count']\n",
    "            reply_count=tweet['reply_count']\n",
    "            hashtags=tweet['entities']['hashtags']\n",
    "            dt=tweet['created_at']\n",
    "            created_at=datetime.datetime.strptime(dt,'%a %b %d %H:%M:%S +0000 %Y')\n",
    "            final_tweet={'id':tweet_id,'handle':username,'followers':followers,'text':text,\n",
    "                         'RTs':RT_count,'Quotes':quote_count,'Favourited':fav_count,'Replied':reply_count,\n",
    "                         'hashtags':hashtags,\n",
    "                         'Timestamp':created_at,'Sentiment_Score':sentiment_scores,'Tweet_Sentiment':tweet_sentiment}\n",
    "            collection.insert_one(final_tweet)\n",
    "            print (username + ':' + ' ' + text)\n",
    "            #print final_tweet\n",
    "            return True\n",
    "            #print tweet\n",
    "            #print ('%s: %s' % (tweet['user']['screen_name'], tweet['text'].encode('ascii', 'ignore')))\n",
    "        else:\n",
    "            print ('Please answer as Y for yes and N for no')\n",
    "            \n",
    "    def on_error(self,status):\n",
    "        print(status)\n",
    "if __name__ == '__main__':\n",
    "    mylistener=MyStreamListener()\n",
    "    print ('Printing Tweets :')\n",
    "    consumer_auth=tweepy.OAuthHandler(consumer_key,consumer_secret)\n",
    "    consumer_auth.set_access_token(access_token,access_token_secret)\n",
    "    stream=tweepy.Stream(auth=consumer_auth,listener=mylistener,tweet_mode= 'extended')\n",
    "    stream.filter(track=keywords,languages=language)"
   ]
  },
  {
   "cell_type": "code",
   "execution_count": null,
   "metadata": {
    "collapsed": true
   },
   "outputs": [],
   "source": []
  }
 ],
 "metadata": {
  "kernelspec": {
   "display_name": "Python [conda env:Anaconda2]",
   "language": "python",
   "name": "conda-env-Anaconda2-py"
  },
  "language_info": {
   "codemirror_mode": {
    "name": "ipython",
    "version": 2
   },
   "file_extension": ".py",
   "mimetype": "text/x-python",
   "name": "python",
   "nbconvert_exporter": "python",
   "pygments_lexer": "ipython2",
   "version": "2.7.14"
  }
 },
 "nbformat": 4,
 "nbformat_minor": 2
}
